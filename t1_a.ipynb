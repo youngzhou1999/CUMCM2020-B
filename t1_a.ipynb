{
 "cells": [
  {
   "cell_type": "code",
   "execution_count": 85,
   "metadata": {
    "ExecuteTime": {
     "end_time": "2020-09-13T09:40:47.095060Z",
     "start_time": "2020-09-13T09:40:47.079100Z"
    }
   },
   "outputs": [],
   "source": [
    "import networkx as nx\n",
    "import numpy as np\n",
    "\n",
    "def func1(node,edge):\n",
    "    g = nx.Graph()\n",
    "    g.add_nodes_from(node)\n",
    "    g.add_edges_from(edge)\n",
    "    nx.draw(g,with_labels = True)\n",
    "    A = np.array(nx.adjacency_matrix(g).todense())\n",
    "    d = nx.floyd_warshall_numpy(g)\n",
    "    return A,d"
   ]
  },
  {
   "cell_type": "code",
   "execution_count": null,
   "metadata": {
    "ExecuteTime": {
     "end_time": "2020-09-13T04:58:05.840812Z",
     "start_time": "2020-09-13T04:58:05.731245Z"
    }
   },
   "outputs": [],
   "source": []
  },
  {
   "cell_type": "code",
   "execution_count": null,
   "metadata": {
    "ExecuteTime": {
     "end_time": "2020-09-10T18:48:46.938149Z",
     "start_time": "2020-09-10T18:48:46.931164Z"
    }
   },
   "outputs": [],
   "source": []
  },
  {
   "cell_type": "code",
   "execution_count": null,
   "metadata": {},
   "outputs": [],
   "source": []
  },
  {
   "cell_type": "code",
   "execution_count": null,
   "metadata": {
    "ExecuteTime": {
     "end_time": "2020-09-13T04:58:50.502075Z",
     "start_time": "2020-09-13T04:58:50.491104Z"
    }
   },
   "outputs": [],
   "source": []
  },
  {
   "cell_type": "code",
   "execution_count": 86,
   "metadata": {
    "ExecuteTime": {
     "end_time": "2020-09-13T09:41:15.656291Z",
     "start_time": "2020-09-13T09:41:15.641269Z"
    }
   },
   "outputs": [],
   "source": [
    "edge = [(1,2),(1,25),\n",
    "        (2,3),\n",
    "        (3,4),(3,25),\n",
    "        (4,5),(4,25),(4,24),\n",
    "        (5,6),(5,24),\n",
    "        (6,7),(6,23),(6,24),\n",
    "        (7,8),(7,22),\n",
    "        (8,9),(8,22),\n",
    "        (9,10),(9,15),(9,16),(9,17),(9,21),\n",
    "        (10,11),(10,13),(10,15),\n",
    "        (11,12),(11,13),\n",
    "        (12,13),(12,14),\n",
    "        (13,14),(13,15),\n",
    "        (14,15),(14,16),\n",
    "        (15,16),\n",
    "        (16,17),(16,18),\n",
    "        (17,18),(17,21),\n",
    "        (18,19),(18,20),\n",
    "        (19,20),\n",
    "        (20,21),\n",
    "        (21,22),(21,23),(21,27),\n",
    "        (22,23),\n",
    "        (23,24),(23,26),\n",
    "        (24,25),(24,26),\n",
    "        (25,26),\n",
    "        (26,27)\n",
    "       ]"
   ]
  },
  {
   "cell_type": "code",
   "execution_count": 87,
   "metadata": {
    "ExecuteTime": {
     "end_time": "2020-09-13T09:41:20.762745Z",
     "start_time": "2020-09-13T09:41:20.753765Z"
    }
   },
   "outputs": [],
   "source": [
    "def legal(i,j,id):\n",
    "    if(id>64 or id<1):\n",
    "        return False\n",
    "    if(j==1):\n",
    "        if(id>=(i-1)*8+2 and id<=i*8):\n",
    "            return True\n",
    "        else:\n",
    "            return False\n",
    "    if(j==2):\n",
    "        if(i%2==0):\n",
    "            if(id>=8*i+1 and id<=8*i+1+6):\n",
    "                return True\n",
    "            else:\n",
    "                return False\n",
    "        else:\n",
    "            if(id>=8*i+1 and id<=8*i+1+6):\n",
    "                return True\n",
    "            else:\n",
    "                return False\n",
    "    if(j==3):\n",
    "        if(i%2==0):\n",
    "            if(id>=8*i+2 and id<=8*i+2+6):\n",
    "                return True\n",
    "            else:\n",
    "                return False\n",
    "        else:\n",
    "            if(id>=8*i+1 and id<=8*i+7):\n",
    "                return True\n",
    "            else:\n",
    "                return False"
   ]
  },
  {
   "cell_type": "code",
   "execution_count": 88,
   "metadata": {
    "ExecuteTime": {
     "end_time": "2020-09-13T09:41:27.923435Z",
     "start_time": "2020-09-13T09:41:27.912463Z"
    }
   },
   "outputs": [
    {
     "data": {
      "text/plain": [
       "array([ 1,  2,  3,  4,  5,  6,  7,  8,  9, 10, 11, 12, 13, 14, 15, 16, 17,\n",
       "       18, 19, 20, 21, 22, 23, 24, 25, 26, 27, 28, 29, 30, 31, 32, 33, 34,\n",
       "       35, 36, 37, 38, 39, 40, 41, 42, 43, 44, 45, 46, 47, 48, 49, 50, 51,\n",
       "       52, 53, 54, 55, 56, 57, 58, 59, 60, 61, 62, 63, 64])"
      ]
     },
     "execution_count": 88,
     "metadata": {},
     "output_type": "execute_result"
    }
   ],
   "source": [
    "node2 = np.array(range(1,65))\n",
    "node2"
   ]
  },
  {
   "cell_type": "code",
   "execution_count": 89,
   "metadata": {
    "ExecuteTime": {
     "end_time": "2020-09-13T09:41:30.358409Z",
     "start_time": "2020-09-13T09:41:30.352423Z"
    }
   },
   "outputs": [],
   "source": [
    "def bound(x):\n",
    "    if(x>=1 and x<=8):\n",
    "        return 1\n",
    "    if(x>=9 and x<=16):\n",
    "        return 2\n",
    "    if(x>=17 and x<=24):\n",
    "        return 3\n",
    "    if(x>=25 and x<=32):\n",
    "        return 4\n",
    "    if(x>=33 and x<=40):\n",
    "        return 5\n",
    "    if(x>=41 and x<=48):\n",
    "        return 6\n",
    "    if(x>=49 and x<=56):\n",
    "        return 7\n",
    "    if(x>=57 and x<=64):\n",
    "        return 8"
   ]
  },
  {
   "cell_type": "code",
   "execution_count": 90,
   "metadata": {
    "ExecuteTime": {
     "end_time": "2020-09-13T09:41:32.065157Z",
     "start_time": "2020-09-13T09:41:32.048811Z"
    }
   },
   "outputs": [
    {
     "data": {
      "text/plain": [
       "[(1, 2),\n",
       " (1, 9),\n",
       " (2, 3),\n",
       " (2, 9),\n",
       " (2, 10),\n",
       " (3, 4),\n",
       " (3, 10),\n",
       " (3, 11),\n",
       " (4, 5),\n",
       " (4, 11),\n",
       " (4, 12),\n",
       " (5, 6),\n",
       " (5, 12),\n",
       " (5, 13),\n",
       " (6, 7),\n",
       " (6, 13),\n",
       " (6, 14),\n",
       " (7, 8),\n",
       " (7, 14),\n",
       " (7, 15),\n",
       " (8, 15),\n",
       " (9, 10),\n",
       " (9, 17),\n",
       " (9, 18),\n",
       " (10, 11),\n",
       " (10, 18),\n",
       " (10, 19),\n",
       " (11, 12),\n",
       " (11, 19),\n",
       " (11, 20),\n",
       " (12, 13),\n",
       " (12, 20),\n",
       " (12, 21),\n",
       " (13, 14),\n",
       " (13, 21),\n",
       " (13, 22),\n",
       " (14, 15),\n",
       " (14, 22),\n",
       " (14, 23),\n",
       " (15, 16),\n",
       " (15, 23),\n",
       " (15, 24),\n",
       " (17, 18),\n",
       " (17, 25),\n",
       " (18, 19),\n",
       " (18, 25),\n",
       " (18, 26),\n",
       " (19, 20),\n",
       " (19, 26),\n",
       " (19, 27),\n",
       " (20, 21),\n",
       " (20, 27),\n",
       " (20, 28),\n",
       " (21, 22),\n",
       " (21, 28),\n",
       " (21, 29),\n",
       " (22, 23),\n",
       " (22, 29),\n",
       " (22, 30),\n",
       " (23, 24),\n",
       " (23, 30),\n",
       " (23, 31),\n",
       " (24, 31),\n",
       " (25, 26),\n",
       " (25, 33),\n",
       " (25, 34),\n",
       " (26, 27),\n",
       " (26, 34),\n",
       " (26, 35),\n",
       " (27, 28),\n",
       " (27, 35),\n",
       " (27, 36),\n",
       " (28, 29),\n",
       " (28, 36),\n",
       " (28, 37),\n",
       " (29, 30),\n",
       " (29, 37),\n",
       " (29, 38),\n",
       " (30, 31),\n",
       " (30, 38),\n",
       " (30, 39),\n",
       " (31, 32),\n",
       " (31, 39),\n",
       " (31, 40),\n",
       " (33, 34),\n",
       " (33, 41),\n",
       " (34, 35),\n",
       " (34, 41),\n",
       " (34, 42),\n",
       " (35, 36),\n",
       " (35, 42),\n",
       " (35, 43),\n",
       " (36, 37),\n",
       " (36, 43),\n",
       " (36, 44),\n",
       " (37, 38),\n",
       " (37, 44),\n",
       " (37, 45),\n",
       " (38, 39),\n",
       " (38, 45),\n",
       " (38, 46),\n",
       " (39, 40),\n",
       " (39, 46),\n",
       " (39, 47),\n",
       " (40, 47),\n",
       " (41, 42),\n",
       " (41, 49),\n",
       " (41, 50),\n",
       " (42, 43),\n",
       " (42, 50),\n",
       " (42, 51),\n",
       " (43, 44),\n",
       " (43, 51),\n",
       " (43, 52),\n",
       " (44, 45),\n",
       " (44, 52),\n",
       " (44, 53),\n",
       " (45, 46),\n",
       " (45, 53),\n",
       " (45, 54),\n",
       " (46, 47),\n",
       " (46, 54),\n",
       " (46, 55),\n",
       " (47, 48),\n",
       " (47, 55),\n",
       " (47, 56),\n",
       " (49, 50),\n",
       " (49, 57),\n",
       " (50, 51),\n",
       " (50, 57),\n",
       " (50, 58),\n",
       " (51, 52),\n",
       " (51, 58),\n",
       " (51, 59),\n",
       " (52, 53),\n",
       " (52, 59),\n",
       " (52, 60),\n",
       " (53, 54),\n",
       " (53, 60),\n",
       " (53, 61),\n",
       " (54, 55),\n",
       " (54, 61),\n",
       " (54, 62),\n",
       " (55, 56),\n",
       " (55, 62),\n",
       " (55, 63),\n",
       " (56, 63),\n",
       " (57, 58),\n",
       " (58, 59),\n",
       " (59, 60),\n",
       " (60, 61),\n",
       " (61, 62),\n",
       " (62, 63),\n",
       " (63, 64)]"
      ]
     },
     "execution_count": 90,
     "metadata": {},
     "output_type": "execute_result"
    }
   ],
   "source": [
    "edge2 = []\n",
    "for i in range(1,65):\n",
    "    x = bound(i)\n",
    "    if(x%2!=0):\n",
    "        if(legal(x,1,i+1)):\n",
    "            edge2.append((i,i+1))\n",
    "        if(legal(x,2,i+7)):\n",
    "            edge2.append((i,i+7))\n",
    "        if(legal(x,3,i+8)):\n",
    "            edge2.append((i,i+8))\n",
    "    else:\n",
    "        if(legal(x,1,i+1)):\n",
    "            edge2.append((i,i+1))\n",
    "        if(legal(x,2,i+8)):\n",
    "            edge2.append((i,i+8))\n",
    "        if(legal(x,3,i+9)):\n",
    "            edge2.append((i,i+9))\n",
    "edge2"
   ]
  },
  {
   "cell_type": "code",
   "execution_count": 13,
   "metadata": {
    "ExecuteTime": {
     "end_time": "2020-09-13T04:58:51.073052Z",
     "start_time": "2020-09-13T04:58:50.562927Z"
    }
   },
   "outputs": [
    {
     "name": "stderr",
     "output_type": "stream",
     "text": [
      "D:\\Anaconda3\\lib\\site-packages\\networkx\\drawing\\nx_pylab.py:579: MatplotlibDeprecationWarning: \n",
      "The iterable function was deprecated in Matplotlib 3.1 and will be removed in 3.3. Use np.iterable instead.\n",
      "  if not cb.iterable(width):\n"
     ]
    }
   ],
   "source": [
    "a2,d2 = func1(node2,edge2)"
   ]
  },
  {
   "cell_type": "code",
   "execution_count": 14,
   "metadata": {
    "ExecuteTime": {
     "end_time": "2020-09-13T04:58:51.084980Z",
     "start_time": "2020-09-13T04:58:51.078001Z"
    }
   },
   "outputs": [
    {
     "data": {
      "text/plain": [
       "7.0"
      ]
     },
     "execution_count": 14,
     "metadata": {},
     "output_type": "execute_result"
    }
   ],
   "source": [
    "d2[0,29]"
   ]
  },
  {
   "cell_type": "code",
   "execution_count": 15,
   "metadata": {
    "ExecuteTime": {
     "end_time": "2020-09-13T04:58:51.093957Z",
     "start_time": "2020-09-13T04:58:51.086975Z"
    }
   },
   "outputs": [
    {
     "data": {
      "text/plain": [
       "8.0"
      ]
     },
     "execution_count": 15,
     "metadata": {},
     "output_type": "execute_result"
    }
   ],
   "source": [
    "d2[0,38]"
   ]
  },
  {
   "cell_type": "code",
   "execution_count": 16,
   "metadata": {
    "ExecuteTime": {
     "end_time": "2020-09-13T04:58:51.101935Z",
     "start_time": "2020-09-13T04:58:51.095952Z"
    }
   },
   "outputs": [
    {
     "data": {
      "text/plain": [
       "9.0"
      ]
     },
     "execution_count": 16,
     "metadata": {},
     "output_type": "execute_result"
    }
   ],
   "source": [
    "d2[0,61]"
   ]
  },
  {
   "cell_type": "code",
   "execution_count": 17,
   "metadata": {
    "ExecuteTime": {
     "end_time": "2020-09-13T04:58:51.112579Z",
     "start_time": "2020-09-13T04:58:51.103428Z"
    }
   },
   "outputs": [
    {
     "data": {
      "text/plain": [
       "9.0"
      ]
     },
     "execution_count": 17,
     "metadata": {},
     "output_type": "execute_result"
    }
   ],
   "source": [
    "d2[0,54]"
   ]
  },
  {
   "cell_type": "code",
   "execution_count": 18,
   "metadata": {
    "ExecuteTime": {
     "end_time": "2020-09-13T04:58:51.122881Z",
     "start_time": "2020-09-13T04:58:51.115911Z"
    }
   },
   "outputs": [
    {
     "data": {
      "text/plain": [
       "11.0"
      ]
     },
     "execution_count": 18,
     "metadata": {},
     "output_type": "execute_result"
    }
   ],
   "source": [
    "d2[0,63]"
   ]
  },
  {
   "cell_type": "code",
   "execution_count": 91,
   "metadata": {
    "ExecuteTime": {
     "end_time": "2020-09-13T09:41:49.032094Z",
     "start_time": "2020-09-13T09:41:49.025257Z"
    }
   },
   "outputs": [],
   "source": [
    "def fwalk(t0,t1,weather):\n",
    "    count = t0\n",
    "    kgc = 0\n",
    "    wc = 0\n",
    "    fc = 0\n",
    "    while(count !=t1):\n",
    "        if(weather[count]==1):\n",
    "            kgc = kgc + kg1*2\n",
    "            wc = wc +2*w1\n",
    "            fc = fc + 2*f1\n",
    "        elif(weather[count]==2):\n",
    "            kgc = kgc + kg2*2\n",
    "            wc = wc +2*w2\n",
    "            fc = fc + 2*f2\n",
    "        else:\n",
    "            kgc = kgc + kg3\n",
    "            t1 = t1 + 1\n",
    "            wc = wc +ws\n",
    "            fc = fc + fs\n",
    "        count = count + 1\n",
    "    return t1,kgc,wc,fc"
   ]
  },
  {
   "cell_type": "code",
   "execution_count": 20,
   "metadata": {
    "ExecuteTime": {
     "end_time": "2020-09-13T04:58:51.144820Z",
     "start_time": "2020-09-13T04:58:51.135862Z"
    }
   },
   "outputs": [],
   "source": [
    "def mine_time(t2,kg,weather):\n",
    "    while(kg>=0):\n",
    "        if(weather[t2-1]==1):\n",
    "            kg = kg - 3*kg1\n",
    "        elif(weather[t2-1]==2):\n",
    "            kg = kg - 3*kg2\n",
    "        else:\n",
    "            kg = kg - 3*kg3\n",
    "        print(kg)\n",
    "        t2 = t2 + 1\n",
    "    return t2-1"
   ]
  },
  {
   "cell_type": "code",
   "execution_count": 92,
   "metadata": {
    "ExecuteTime": {
     "end_time": "2020-09-13T09:41:58.762301Z",
     "start_time": "2020-09-13T09:41:58.756351Z"
    }
   },
   "outputs": [],
   "source": [
    "def fmine(t0,t1,weather):\n",
    "    count = t0\n",
    "    kgc = 0\n",
    "    wc = 0\n",
    "    fc = 0\n",
    "    while(count !=t1):\n",
    "        if(weather[count]==1):\n",
    "            kgc = kgc + kg1*3\n",
    "            wc = wc +3*w1\n",
    "            fc = fc + 3*f1\n",
    "        elif(weather[count]==2):\n",
    "            kgc = kgc + kg2*3\n",
    "            wc = wc +3*w2\n",
    "            fc = fc + 3*f2\n",
    "        else:\n",
    "            kgc = kgc + 3*kg3\n",
    "            #t1 = t1 + 1\n",
    "            wc = wc +3*ws\n",
    "            fc = fc + 3*fs\n",
    "        count = count + 1\n",
    "    return t1,kgc,wc,fc"
   ]
  },
  {
   "cell_type": "code",
   "execution_count": 22,
   "metadata": {
    "ExecuteTime": {
     "end_time": "2020-09-13T04:58:51.164878Z",
     "start_time": "2020-09-13T04:58:51.158896Z"
    }
   },
   "outputs": [],
   "source": [
    "weather = [\n",
    "    2,2,1,0,1,2,0,1,2,2,\n",
    "    0,2,1,2,2,2,0,0,2,2,\n",
    "    1,1,2,1,0,2,1,1,2,2\n",
    "]\n",
    "\n",
    "w1 = 5\n",
    "w2 = 8\n",
    "f1 = 7\n",
    "f2 = 6\n",
    "ws = 10\n",
    "fs = 10\n",
    "\n",
    "kg1 = 29\n",
    "kg2 = 36\n",
    "kg3 = 50"
   ]
  },
  {
   "cell_type": "code",
   "execution_count": 25,
   "metadata": {
    "ExecuteTime": {
     "end_time": "2020-09-13T04:58:51.187737Z",
     "start_time": "2020-09-13T04:58:51.179729Z"
    }
   },
   "outputs": [
    {
     "data": {
      "text/plain": [
       "(10, 144, 32, 24)"
      ]
     },
     "execution_count": 25,
     "metadata": {},
     "output_type": "execute_result"
    }
   ],
   "source": [
    "count_t(8,10,weather)"
   ]
  },
  {
   "cell_type": "code",
   "execution_count": 26,
   "metadata": {
    "ExecuteTime": {
     "end_time": "2020-09-13T04:58:51.196736Z",
     "start_time": "2020-09-13T04:58:51.190701Z"
    }
   },
   "outputs": [],
   "source": [
    "kg=1200-2*36\n",
    "#13hao的"
   ]
  },
  {
   "cell_type": "code",
   "execution_count": 27,
   "metadata": {
    "ExecuteTime": {
     "end_time": "2020-09-13T04:58:51.207656Z",
     "start_time": "2020-09-13T04:58:51.198677Z"
    }
   },
   "outputs": [
    {
     "name": "stdout",
     "output_type": "stream",
     "text": [
      "978\n",
      "828\n",
      "720\n",
      "612\n",
      "525\n",
      "438\n",
      "330\n",
      "243\n",
      "93\n",
      "-15\n"
     ]
    },
    {
     "data": {
      "text/plain": [
       "26"
      ]
     },
     "execution_count": 27,
     "metadata": {},
     "output_type": "execute_result"
    }
   ],
   "source": [
    "mine_time(17,kg,weather)"
   ]
  },
  {
   "cell_type": "code",
   "execution_count": 28,
   "metadata": {
    "ExecuteTime": {
     "end_time": "2020-09-13T04:58:51.220622Z",
     "start_time": "2020-09-13T04:58:51.212642Z"
    }
   },
   "outputs": [
    {
     "data": {
      "text/plain": [
       "(30, 202, 42, 38)"
      ]
     },
     "execution_count": 28,
     "metadata": {},
     "output_type": "execute_result"
    }
   ],
   "source": [
    "count_t(27,30,weather)"
   ]
  },
  {
   "cell_type": "code",
   "execution_count": 29,
   "metadata": {
    "ExecuteTime": {
     "end_time": "2020-09-13T04:58:51.233584Z",
     "start_time": "2020-09-13T04:58:51.228267Z"
    }
   },
   "outputs": [
    {
     "data": {
      "text/plain": [
       "(25, 345, 69, 69)"
      ]
     },
     "execution_count": 29,
     "metadata": {},
     "output_type": "execute_result"
    }
   ],
   "source": [
    "count_mine(22,25,weather)"
   ]
  },
  {
   "cell_type": "code",
   "execution_count": 30,
   "metadata": {
    "ExecuteTime": {
     "end_time": "2020-09-13T04:58:51.245629Z",
     "start_time": "2020-09-13T04:58:51.236577Z"
    }
   },
   "outputs": [
    {
     "data": {
      "text/plain": [
       "(22, 260, 52, 52)"
      ]
     },
     "execution_count": 30,
     "metadata": {},
     "output_type": "execute_result"
    }
   ],
   "source": [
    "count_t(18,22,weather)"
   ]
  },
  {
   "cell_type": "code",
   "execution_count": 31,
   "metadata": {
    "ExecuteTime": {
     "end_time": "2020-09-13T04:58:51.253530Z",
     "start_time": "2020-09-13T04:58:51.247546Z"
    }
   },
   "outputs": [
    {
     "data": {
      "text/plain": [
       "(18, 969, 201, 183)"
      ]
     },
     "execution_count": 31,
     "metadata": {},
     "output_type": "execute_result"
    }
   ],
   "source": [
    "count_mine(10,18,weather)"
   ]
  },
  {
   "cell_type": "code",
   "execution_count": 32,
   "metadata": {
    "ExecuteTime": {
     "end_time": "2020-09-13T04:58:51.263512Z",
     "start_time": "2020-09-13T04:58:51.256530Z"
    }
   },
   "outputs": [
    {
     "data": {
      "text/plain": [
       "(9, 562, 114, 110)"
      ]
     },
     "execution_count": 32,
     "metadata": {},
     "output_type": "execute_result"
    }
   ],
   "source": [
    "count_t(0,7,weather)"
   ]
  },
  {
   "cell_type": "code",
   "execution_count": 33,
   "metadata": {
    "ExecuteTime": {
     "end_time": "2020-09-13T04:58:51.270057Z",
     "start_time": "2020-09-13T04:58:51.265638Z"
    }
   },
   "outputs": [
    {
     "data": {
      "text/plain": [
       "(14, 561, 117, 105)"
      ]
     },
     "execution_count": 33,
     "metadata": {},
     "output_type": "execute_result"
    }
   ],
   "source": [
    "count_mine(9,14,weather)"
   ]
  },
  {
   "cell_type": "code",
   "execution_count": 34,
   "metadata": {
    "ExecuteTime": {
     "end_time": "2020-09-13T04:58:51.277502Z",
     "start_time": "2020-09-13T04:58:51.271713Z"
    }
   },
   "outputs": [
    {
     "data": {
      "text/plain": [
       "(15, 72, 16, 12)"
      ]
     },
     "execution_count": 34,
     "metadata": {},
     "output_type": "execute_result"
    }
   ],
   "source": [
    "count_t(14,15,weather)"
   ]
  },
  {
   "cell_type": "code",
   "execution_count": 35,
   "metadata": {
    "ExecuteTime": {
     "end_time": "2020-09-13T04:58:51.286515Z",
     "start_time": "2020-09-13T04:58:51.279461Z"
    }
   },
   "outputs": [
    {
     "data": {
      "text/plain": [
       "(25, 1035, 207, 207)"
      ]
     },
     "execution_count": 35,
     "metadata": {},
     "output_type": "execute_result"
    }
   ],
   "source": [
    "count_mine(16,25,weather)"
   ]
  },
  {
   "cell_type": "code",
   "execution_count": 36,
   "metadata": {
    "ExecuteTime": {
     "end_time": "2020-09-13T04:58:51.293435Z",
     "start_time": "2020-09-13T04:58:51.288436Z"
    }
   },
   "outputs": [
    {
     "data": {
      "text/plain": [
       "(27, 130, 26, 26)"
      ]
     },
     "execution_count": 36,
     "metadata": {},
     "output_type": "execute_result"
    }
   ],
   "source": [
    "count_t(25,27,weather)"
   ]
  },
  {
   "cell_type": "code",
   "execution_count": 37,
   "metadata": {
    "ExecuteTime": {
     "end_time": "2020-09-13T04:58:51.303439Z",
     "start_time": "2020-09-13T04:58:51.295418Z"
    }
   },
   "outputs": [
    {
     "data": {
      "text/plain": [
       "(12, 756, 156, 144)"
      ]
     },
     "execution_count": 37,
     "metadata": {},
     "output_type": "execute_result"
    }
   ],
   "source": [
    "count_t(0,9,weather)"
   ]
  },
  {
   "cell_type": "code",
   "execution_count": 38,
   "metadata": {
    "ExecuteTime": {
     "end_time": "2020-09-13T04:58:51.313418Z",
     "start_time": "2020-09-13T04:58:51.306390Z"
    }
   },
   "outputs": [
    {
     "data": {
      "text/plain": [
       "(13, 58, 10, 14)"
      ]
     },
     "execution_count": 38,
     "metadata": {},
     "output_type": "execute_result"
    }
   ],
   "source": [
    "count_t(12,13,weather)"
   ]
  },
  {
   "cell_type": "code",
   "execution_count": 39,
   "metadata": {
    "ExecuteTime": {
     "end_time": "2020-09-13T04:58:51.321354Z",
     "start_time": "2020-09-13T04:58:51.316362Z"
    }
   },
   "outputs": [
    {
     "data": {
      "text/plain": [
       "(22, 1014, 210, 192)"
      ]
     },
     "execution_count": 39,
     "metadata": {},
     "output_type": "execute_result"
    }
   ],
   "source": [
    "count_mine(13,22,weather)"
   ]
  },
  {
   "cell_type": "code",
   "execution_count": 40,
   "metadata": {
    "ExecuteTime": {
     "end_time": "2020-09-13T04:58:51.329337Z",
     "start_time": "2020-09-13T04:58:51.324468Z"
    }
   },
   "outputs": [
    {
     "data": {
      "text/plain": [
       "(23, 72, 16, 12)"
      ]
     },
     "execution_count": 40,
     "metadata": {},
     "output_type": "execute_result"
    }
   ],
   "source": [
    "count_t(22,23,weather)"
   ]
  },
  {
   "cell_type": "code",
   "execution_count": 41,
   "metadata": {
    "ExecuteTime": {
     "end_time": "2020-09-13T04:58:51.339428Z",
     "start_time": "2020-09-13T04:58:51.332335Z"
    }
   },
   "outputs": [
    {
     "data": {
      "text/plain": [
       "(24, 58, 10, 14)"
      ]
     },
     "execution_count": 41,
     "metadata": {},
     "output_type": "execute_result"
    }
   ],
   "source": [
    "count_t(23,24,weather)"
   ]
  },
  {
   "cell_type": "code",
   "execution_count": 42,
   "metadata": {
    "ExecuteTime": {
     "end_time": "2020-09-13T04:58:51.355257Z",
     "start_time": "2020-09-13T04:58:51.342295Z"
    }
   },
   "outputs": [
    {
     "data": {
      "text/plain": [
       "(28, 432, 84, 90)"
      ]
     },
     "execution_count": 42,
     "metadata": {},
     "output_type": "execute_result"
    }
   ],
   "source": [
    "count_mine(24,28,weather)"
   ]
  },
  {
   "cell_type": "code",
   "execution_count": 43,
   "metadata": {
    "ExecuteTime": {
     "end_time": "2020-09-13T04:58:51.364250Z",
     "start_time": "2020-09-13T04:58:51.359248Z"
    }
   },
   "outputs": [
    {
     "data": {
      "text/plain": [
       "(28, 58, 10, 14)"
      ]
     },
     "execution_count": 43,
     "metadata": {},
     "output_type": "execute_result"
    }
   ],
   "source": [
    "count_t(27,28,weather)"
   ]
  },
  {
   "cell_type": "code",
   "execution_count": 44,
   "metadata": {
    "ExecuteTime": {
     "end_time": "2020-09-13T04:58:51.371225Z",
     "start_time": "2020-09-13T04:58:51.366390Z"
    }
   },
   "outputs": [
    {
     "data": {
      "text/plain": [
       "(30, 144, 32, 24)"
      ]
     },
     "execution_count": 44,
     "metadata": {},
     "output_type": "execute_result"
    }
   ],
   "source": [
    "count_t(28,30,weather)"
   ]
  },
  {
   "cell_type": "code",
   "execution_count": 45,
   "metadata": {
    "ExecuteTime": {
     "end_time": "2020-09-13T04:58:51.379194Z",
     "start_time": "2020-09-13T04:58:51.373336Z"
    }
   },
   "outputs": [
    {
     "data": {
      "text/plain": [
       "(30, 144, 32, 24)"
      ]
     },
     "execution_count": 45,
     "metadata": {},
     "output_type": "execute_result"
    }
   ],
   "source": [
    "count_t(28,30,weather)"
   ]
  },
  {
   "cell_type": "code",
   "execution_count": 46,
   "metadata": {
    "ExecuteTime": {
     "end_time": "2020-09-13T04:58:51.386175Z",
     "start_time": "2020-09-13T04:58:51.381189Z"
    }
   },
   "outputs": [
    {
     "data": {
      "text/plain": [
       "(28, 432, 84, 90)"
      ]
     },
     "execution_count": 46,
     "metadata": {},
     "output_type": "execute_result"
    }
   ],
   "source": [
    "count_mine(24,28,weather)"
   ]
  },
  {
   "cell_type": "code",
   "execution_count": 47,
   "metadata": {
    "ExecuteTime": {
     "end_time": "2020-09-13T04:58:51.393059Z",
     "start_time": "2020-09-13T04:58:51.387317Z"
    }
   },
   "outputs": [
    {
     "data": {
      "text/plain": [
       "(9, 562, 114, 110)"
      ]
     },
     "execution_count": 47,
     "metadata": {},
     "output_type": "execute_result"
    }
   ],
   "source": [
    "count_t(0,7,weather)"
   ]
  },
  {
   "cell_type": "code",
   "execution_count": 48,
   "metadata": {
    "ExecuteTime": {
     "end_time": "2020-09-13T04:58:51.401136Z",
     "start_time": "2020-09-13T04:58:51.394362Z"
    }
   },
   "outputs": [
    {
     "data": {
      "text/plain": [
       "(13, 453, 93, 87)"
      ]
     },
     "execution_count": 48,
     "metadata": {},
     "output_type": "execute_result"
    }
   ],
   "source": [
    "count_mine(9,13,weather)"
   ]
  },
  {
   "cell_type": "code",
   "execution_count": 49,
   "metadata": {
    "ExecuteTime": {
     "end_time": "2020-09-13T04:58:51.410127Z",
     "start_time": "2020-09-13T04:58:51.404129Z"
    }
   },
   "outputs": [
    {
     "data": {
      "text/plain": [
       "(14, 72, 16, 12)"
      ]
     },
     "execution_count": 49,
     "metadata": {},
     "output_type": "execute_result"
    }
   ],
   "source": [
    "count_t(13,14,weather)"
   ]
  },
  {
   "cell_type": "code",
   "execution_count": 50,
   "metadata": {
    "ExecuteTime": {
     "end_time": "2020-09-13T04:58:51.419373Z",
     "start_time": "2020-09-13T04:58:51.413573Z"
    }
   },
   "outputs": [
    {
     "data": {
      "text/plain": [
       "(16, 144, 32, 24)"
      ]
     },
     "execution_count": 50,
     "metadata": {},
     "output_type": "execute_result"
    }
   ],
   "source": [
    "count_t(14,16,weather)"
   ]
  },
  {
   "cell_type": "code",
   "execution_count": 51,
   "metadata": {
    "ExecuteTime": {
     "end_time": "2020-09-13T04:58:51.428062Z",
     "start_time": "2020-09-13T04:58:51.421081Z"
    }
   },
   "outputs": [
    {
     "data": {
      "text/plain": [
       "(22, 690, 138, 138)"
      ]
     },
     "execution_count": 51,
     "metadata": {},
     "output_type": "execute_result"
    }
   ],
   "source": [
    "count_mine(16,22,weather)"
   ]
  },
  {
   "cell_type": "code",
   "execution_count": 52,
   "metadata": {
    "ExecuteTime": {
     "end_time": "2020-09-13T04:58:51.434046Z",
     "start_time": "2020-09-13T04:58:51.429372Z"
    }
   },
   "outputs": [
    {
     "data": {
      "text/plain": [
       "(8, 490, 98, 98)"
      ]
     },
     "execution_count": 52,
     "metadata": {},
     "output_type": "execute_result"
    }
   ],
   "source": [
    "count_t(0,6,weather)"
   ]
  },
  {
   "cell_type": "code",
   "execution_count": 53,
   "metadata": {
    "ExecuteTime": {
     "end_time": "2020-09-13T04:58:51.441034Z",
     "start_time": "2020-09-13T04:58:51.436041Z"
    }
   },
   "outputs": [
    {
     "data": {
      "text/plain": [
       "(23, 188, 36, 40)"
      ]
     },
     "execution_count": 53,
     "metadata": {},
     "output_type": "execute_result"
    }
   ],
   "source": [
    "count_t(20,23,weather)"
   ]
  },
  {
   "cell_type": "code",
   "execution_count": 54,
   "metadata": {
    "ExecuteTime": {
     "end_time": "2020-09-13T04:58:51.449022Z",
     "start_time": "2020-09-13T04:58:51.444021Z"
    }
   },
   "outputs": [
    {
     "data": {
      "text/plain": [
       "(17, 819, 171, 153)"
      ]
     },
     "execution_count": 54,
     "metadata": {},
     "output_type": "execute_result"
    }
   ],
   "source": [
    "count_mine(10,17,weather)"
   ]
  },
  {
   "cell_type": "code",
   "execution_count": 55,
   "metadata": {
    "ExecuteTime": {
     "end_time": "2020-09-13T04:58:51.457602Z",
     "start_time": "2020-09-13T04:58:51.451002Z"
    }
   },
   "outputs": [
    {
     "data": {
      "text/plain": [
       "(8, 490, 98, 98)"
      ]
     },
     "execution_count": 55,
     "metadata": {},
     "output_type": "execute_result"
    }
   ],
   "source": [
    "count_t(0,6,weather)"
   ]
  },
  {
   "cell_type": "code",
   "execution_count": 82,
   "metadata": {
    "ExecuteTime": {
     "end_time": "2020-09-13T05:29:04.011780Z",
     "start_time": "2020-09-13T05:29:04.005865Z"
    }
   },
   "outputs": [
    {
     "data": {
      "text/plain": [
       "(28, 432, 84, 90)"
      ]
     },
     "execution_count": 82,
     "metadata": {},
     "output_type": "execute_result"
    }
   ],
   "source": [
    "count_mine(24,28,weather)"
   ]
  },
  {
   "cell_type": "code",
   "execution_count": 84,
   "metadata": {
    "ExecuteTime": {
     "end_time": "2020-09-13T07:25:03.079805Z",
     "start_time": "2020-09-13T07:25:03.069988Z"
    }
   },
   "outputs": [
    {
     "data": {
      "text/plain": [
       "(24, 188, 36, 40)"
      ]
     },
     "execution_count": 84,
     "metadata": {},
     "output_type": "execute_result"
    }
   ],
   "source": [
    "count_t(21,24,weather)"
   ]
  },
  {
   "cell_type": "code",
   "execution_count": 93,
   "metadata": {
    "ExecuteTime": {
     "end_time": "2020-09-13T10:03:59.981014Z",
     "start_time": "2020-09-13T10:03:59.526229Z"
    }
   },
   "outputs": [
    {
     "name": "stderr",
     "output_type": "stream",
     "text": [
      "D:\\Anaconda3\\lib\\site-packages\\networkx\\drawing\\nx_pylab.py:579: MatplotlibDeprecationWarning: \n",
      "The iterable function was deprecated in Matplotlib 3.1 and will be removed in 3.3. Use np.iterable instead.\n",
      "  if not cb.iterable(width):\n",
      "D:\\Anaconda3\\lib\\site-packages\\networkx\\drawing\\nx_pylab.py:579: MatplotlibDeprecationWarning: \n",
      "The iterable function was deprecated in Matplotlib 3.1 and will be removed in 3.3. Use np.iterable instead.\n",
      "  if not cb.iterable(width):\n"
     ]
    },
    {
     "data": {
      "image/png": "[encoded data removed]",
      "text/plain": [
       "<Figure size 432x288 with 1 Axes>"
      ]
     },
     "metadata": {},
     "output_type": "display_data"
    }
   ],
   "source": [
    "import networkx as nx\n",
    "import numpy as np\n",
    "\n",
    "def func1(node,edge):\n",
    "    g = nx.Graph()\n",
    "    g.add_nodes_from(node)\n",
    "    g.add_edges_from(edge)\n",
    "    nx.draw(g,with_labels = True)\n",
    "    A = np.array(nx.adjacency_matrix(g).todense())\n",
    "    d = nx.floyd_warshall_numpy(g)\n",
    "    return A,d\n",
    "\n",
    "\n",
    "edge1 = [(1,2),(1,25),\n",
    "        (2,3),\n",
    "        (3,4),(3,25),\n",
    "        (4,5),(4,25),(4,24),\n",
    "        (5,6),(5,24),\n",
    "        (6,7),(6,23),(6,24),\n",
    "        (7,8),(7,22),\n",
    "        (8,9),(8,22),\n",
    "        (9,10),(9,15),(9,16),(9,17),(9,21),\n",
    "        (10,11),(10,13),(10,15),\n",
    "        (11,12),(11,13),\n",
    "        (12,13),(12,14),\n",
    "        (13,14),(13,15),\n",
    "        (14,15),(14,16),\n",
    "        (15,16),\n",
    "        (16,17),(16,18),\n",
    "        (17,18),(17,21),\n",
    "        (18,19),(18,20),\n",
    "        (19,20),\n",
    "        (20,21),\n",
    "        (21,22),(21,23),(21,27),\n",
    "        (22,23),\n",
    "        (23,24),(23,26),\n",
    "        (24,25),(24,26),\n",
    "        (25,26),\n",
    "        (26,27)\n",
    "       ]\n",
    "node1 = np.array(range(1,27))\n",
    "\n",
    "a1,d1 = func1(node1,edge1)\n",
    "\n",
    "def legal(i,j,id):\n",
    "    if(id>64 or id<1):\n",
    "        return False\n",
    "    if(j==1):\n",
    "        if(id>=(i-1)*8+2 and id<=i*8):\n",
    "            return True\n",
    "        else:\n",
    "            return False\n",
    "    if(j==2):\n",
    "        if(i%2==0):\n",
    "            if(id>=8*i+1 and id<=8*i+1+6):\n",
    "                return True\n",
    "            else:\n",
    "                return False\n",
    "        else:\n",
    "            if(id>=8*i+1 and id<=8*i+1+6):\n",
    "                return True\n",
    "            else:\n",
    "                return False\n",
    "    if(j==3):\n",
    "        if(i%2==0):\n",
    "            if(id>=8*i+2 and id<=8*i+2+6):\n",
    "                return True\n",
    "            else:\n",
    "                return False\n",
    "        else:\n",
    "            if(id>=8*i+1 and id<=8*i+7):\n",
    "                return True\n",
    "            else:\n",
    "                return False\n",
    "\n",
    "def bound(x):\n",
    "    if(x>=1 and x<=8):\n",
    "        return 1\n",
    "    if(x>=9 and x<=16):\n",
    "        return 2\n",
    "    if(x>=17 and x<=24):\n",
    "        return 3\n",
    "    if(x>=25 and x<=32):\n",
    "        return 4\n",
    "    if(x>=33 and x<=40):\n",
    "        return 5\n",
    "    if(x>=41 and x<=48):\n",
    "        return 6\n",
    "    if(x>=49 and x<=56):\n",
    "        return 7\n",
    "    if(x>=57 and x<=64):\n",
    "        return 8\n",
    "\n",
    "edge2 = []\n",
    "for i in range(1,65):\n",
    "    x = bound(i)\n",
    "    if(x%2!=0):\n",
    "        if(legal(x,1,i+1)):\n",
    "            edge2.append((i,i+1))\n",
    "        if(legal(x,2,i+7)):\n",
    "            edge2.append((i,i+7))\n",
    "        if(legal(x,3,i+8)):\n",
    "            edge2.append((i,i+8))\n",
    "    else:\n",
    "        if(legal(x,1,i+1)):\n",
    "            edge2.append((i,i+1))\n",
    "        if(legal(x,2,i+8)):\n",
    "            edge2.append((i,i+8))\n",
    "        if(legal(x,3,i+9)):\n",
    "            edge2.append((i,i+9))\n",
    "\n",
    "node2 = np.array(range(1,65))\n",
    "\n",
    "a2,d2 = func1(node2,edge2)"
   ]
  },
  {
   "cell_type": "code",
   "execution_count": null,
   "metadata": {},
   "outputs": [],
   "source": [
    "#case5:7,3 9800 1\n",
    "    #[98,32+171+10+32,20+69+68],\n",
    "    #[98,24+153+10+24,28+69+64]\n",
    "    #case12:7 10430\n",
    "    #[98,32+171+10+32,36],\n",
    "    #[98,24+153+10+24,40]\n",
    "    #case shang1 9\n",
    "    #[130+10,16+210+10,26+10+16],\n",
    "    #[122+10,12+192+14,26+10+12]\n",
    "    #case xia1 9\n",
    "    #[156,10+210+16,10+10+16],\n",
    "    #[144,14+192+12,14+10+12]\n",
    "    #new 2 , 9 11105\n",
    "    #[156+39+16,16+207+16,20],\n",
    "    #[144+39+12,12+207+12,28]\n",
    "    #new 2,9,1\n",
    "    #[156+39+16,16+207+16,10+15+32],\n",
    "    #[144+39+12,12+207+12,14+21+24]\n",
    "    #case2: m=[2000,7000,5000] 12580\n",
    "    #[114+54+16,26+171+10,16+99+32],\n",
    "    #[110+48+12,26+153+14,12+111+24]\n",
    "    #case14 4 6 4\n",
    "    #[114+93+16,32+123+10,16+99+32],\n",
    "    #[110+87+12,24+117+14,12+111+24]"
   ]
  }
 ],
 "metadata": {
  "kernelspec": {
   "display_name": "pythonbase",
   "language": "python",
   "name": "pythonbase"
  },
  "language_info": {
   "codemirror_mode": {
    "name": "ipython",
    "version": 3
   },
   "file_extension": ".py",
   "mimetype": "text/x-python",
   "name": "python",
   "nbconvert_exporter": "python",
   "pygments_lexer": "ipython3",
   "version": "3.7.4"
  }
 },
 "nbformat": 4,
 "nbformat_minor": 2
}
